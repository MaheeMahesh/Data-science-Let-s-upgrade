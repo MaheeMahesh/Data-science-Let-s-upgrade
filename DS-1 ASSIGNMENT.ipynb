{
 "cells": [
  {
   "cell_type": "markdown",
   "metadata": {},
   "source": [
    "# ASSIGNMENT DAY-1 DATA SCIENCE "
   ]
  },
  {
   "cell_type": "markdown",
   "metadata": {},
   "source": [
    "# question 1\n"
   ]
  },
  {
   "cell_type": "code",
   "execution_count": 4,
   "metadata": {},
   "outputs": [],
   "source": [
    "# RAINBOW"
   ]
  },
  {
   "cell_type": "markdown",
   "metadata": {},
   "source": [
    "# question 2"
   ]
  },
  {
   "cell_type": "code",
   "execution_count": 16,
   "metadata": {},
   "outputs": [
    {
     "name": "stdout",
     "output_type": "stream",
     "text": [
      "letsupgrade\n"
     ]
    },
    {
     "data": {
      "text/plain": [
       "'LETSUPGRADE'"
      ]
     },
     "execution_count": 16,
     "metadata": {},
     "output_type": "execute_result"
    }
   ],
   "source": [
    "k=\"letsupgrade\"\n",
    "print(k)\n",
    "k.upper()"
   ]
  },
  {
   "cell_type": "markdown",
   "metadata": {},
   "source": [
    "# question 3"
   ]
  },
  {
   "cell_type": "code",
   "execution_count": 23,
   "metadata": {},
   "outputs": [
    {
     "name": "stdout",
     "output_type": "stream",
     "text": [
      "Enter costprice45\n",
      "enter selling price325\n",
      "The transaction is profit\n"
     ]
    }
   ],
   "source": [
    "n=int(input(\"Enter costprice\"))\n",
    "n1=int(input(\"enter selling price\"))\n",
    "m=n+n1\n",
    "if n1>n:\n",
    "    print('The transaction is profit')\n",
    "else:\n",
    "    print(\"The transaction is loss\")\n"
   ]
  },
  {
   "cell_type": "markdown",
   "metadata": {},
   "source": [
    "# question 4"
   ]
  },
  {
   "cell_type": "code",
   "execution_count": 32,
   "metadata": {},
   "outputs": [
    {
     "name": "stdout",
     "output_type": "stream",
     "text": [
      "profit\n"
     ]
    }
   ],
   "source": [
    "n=20\n",
    "n1=30\n",
    "m=n+n1\n",
    "if n1>n:\n",
    "    print('profit')\n",
    "elif n1<n:\n",
    "    print(\"loss\")\n",
    "else:\n",
    "    print(\"neither\")"
   ]
  },
  {
   "cell_type": "code",
   "execution_count": 35,
   "metadata": {},
   "outputs": [
    {
     "name": "stdout",
     "output_type": "stream",
     "text": [
      "loss\n"
     ]
    }
   ],
   "source": [
    "n=20\n",
    "n1=10\n",
    "m=n+n1\n",
    "if n1>n:\n",
    "    print('profit')\n",
    "elif n1<n:\n",
    "    print(\"loss\")\n",
    "else:\n",
    "    print(\"neither\")"
   ]
  },
  {
   "cell_type": "code",
   "execution_count": 36,
   "metadata": {},
   "outputs": [
    {
     "name": "stdout",
     "output_type": "stream",
     "text": [
      "neither\n"
     ]
    }
   ],
   "source": [
    "n=20\n",
    "n1=20\n",
    "m=n+n1\n",
    "if n1>n:\n",
    "    print('profit')\n",
    "elif n1<n:\n",
    "    print(\"loss\")\n",
    "else:\n",
    "    print(\"neither\")"
   ]
  },
  {
   "cell_type": "code",
   "execution_count": 37,
   "metadata": {},
   "outputs": [
    {
     "name": "stdout",
     "output_type": "stream",
     "text": [
      "neither\n"
     ]
    }
   ],
   "source": [
    "n=19\n",
    "n1=19\n",
    "m=n+n1\n",
    "if n1>n:\n",
    "    print('profit')\n",
    "elif n1<n:\n",
    "    print(\"loss\")\n",
    "else:\n",
    "    print(\"neither\")"
   ]
  },
  {
   "cell_type": "code",
   "execution_count": 38,
   "metadata": {},
   "outputs": [
    {
     "name": "stdout",
     "output_type": "stream",
     "text": [
      "loss\n"
     ]
    }
   ],
   "source": [
    "n=23\n",
    "n1=7\n",
    "m=n+n1\n",
    "if n1>n:\n",
    "    print('profit')\n",
    "elif n1<n:\n",
    "    print(\"loss\")\n",
    "else:\n",
    "    print(\"neither\")"
   ]
  },
  {
   "cell_type": "code",
   "execution_count": 39,
   "metadata": {},
   "outputs": [
    {
     "name": "stdout",
     "output_type": "stream",
     "text": [
      "profit\n"
     ]
    }
   ],
   "source": [
    "n=19\n",
    "n1=95\n",
    "m=n+n1\n",
    "if n1>n:\n",
    "    print('profit')\n",
    "elif n1<n:\n",
    "    print(\"loss\")\n",
    "else:\n",
    "    print(\"neither\")"
   ]
  },
  {
   "cell_type": "markdown",
   "metadata": {},
   "source": [
    "# question 5"
   ]
  },
  {
   "cell_type": "code",
   "execution_count": 57,
   "metadata": {},
   "outputs": [
    {
     "name": "stdout",
     "output_type": "stream",
     "text": [
      "input 20\n",
      "1600\n"
     ]
    }
   ],
   "source": [
    "n=int(input(\"input \"))\n",
    "e=n*80\n",
    "print(e)"
   ]
  },
  {
   "cell_type": "code",
   "execution_count": 58,
   "metadata": {},
   "outputs": [
    {
     "name": "stdout",
     "output_type": "stream",
     "text": [
      "input 50\n",
      "4000\n"
     ]
    }
   ],
   "source": [
    "n=int(input(\"input \"))\n",
    "e=n*80\n",
    "print(e)"
   ]
  },
  {
   "cell_type": "code",
   "execution_count": 59,
   "metadata": {},
   "outputs": [
    {
     "name": "stdout",
     "output_type": "stream",
     "text": [
      "input 72\n",
      "5760\n"
     ]
    }
   ],
   "source": [
    "n=int(input(\"input \"))\n",
    "e=n*80\n",
    "print(e)"
   ]
  },
  {
   "cell_type": "code",
   "execution_count": 60,
   "metadata": {},
   "outputs": [
    {
     "name": "stdout",
     "output_type": "stream",
     "text": [
      "input 7\n",
      "560\n"
     ]
    }
   ],
   "source": [
    "n=int(input(\"input \"))\n",
    "e=n*80\n",
    "print(e)"
   ]
  },
  {
   "cell_type": "code",
   "execution_count": 61,
   "metadata": {},
   "outputs": [
    {
     "name": "stdout",
     "output_type": "stream",
     "text": [
      "input 35\n",
      "2800\n"
     ]
    }
   ],
   "source": [
    "n=int(input(\"input \"))\n",
    "e=n*80\n",
    "print(e)"
   ]
  },
  {
   "cell_type": "code",
   "execution_count": 62,
   "metadata": {},
   "outputs": [
    {
     "name": "stdout",
     "output_type": "stream",
     "text": [
      "input 23\n",
      "1840\n"
     ]
    }
   ],
   "source": [
    "n=int(input(\"input \"))\n",
    "e=n*80\n",
    "print(e)"
   ]
  },
  {
   "cell_type": "code",
   "execution_count": 64,
   "metadata": {},
   "outputs": [
    {
     "name": "stdout",
     "output_type": "stream",
     "text": [
      "input 95\n",
      "7600\n"
     ]
    }
   ],
   "source": [
    "n=int(input(\"input \"))\n",
    "e=n*80\n",
    "print(e)"
   ]
  },
  {
   "cell_type": "code",
   "execution_count": 65,
   "metadata": {},
   "outputs": [
    {
     "name": "stdout",
     "output_type": "stream",
     "text": [
      "input 18\n",
      "1440\n"
     ]
    }
   ],
   "source": [
    "n=int(input(\"input \"))\n",
    "e=n*80\n",
    "print(e)"
   ]
  },
  {
   "cell_type": "code",
   "execution_count": null,
   "metadata": {},
   "outputs": [],
   "source": []
  }
 ],
 "metadata": {
  "kernelspec": {
   "display_name": "Python 3",
   "language": "python",
   "name": "python3"
  },
  "language_info": {
   "codemirror_mode": {
    "name": "ipython",
    "version": 3
   },
   "file_extension": ".py",
   "mimetype": "text/x-python",
   "name": "python",
   "nbconvert_exporter": "python",
   "pygments_lexer": "ipython3",
   "version": "3.8.3"
  }
 },
 "nbformat": 4,
 "nbformat_minor": 4
}
